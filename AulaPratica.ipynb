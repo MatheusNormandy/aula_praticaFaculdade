{
  "cells": [
    {
      "cell_type": "markdown",
      "metadata": {
        "id": "view-in-github",
        "colab_type": "text"
      },
      "source": [
        "<a href=\"https://colab.research.google.com/github/MatheusNormandy/aula_praticaFaculdade/blob/main/AulaPratica.ipynb\" target=\"_parent\"><img src=\"https://colab.research.google.com/assets/colab-badge.svg\" alt=\"Open In Colab\"/></a>"
      ]
    },
    {
      "cell_type": "code",
      "source": [
        "import customtkinter as ctk\n",
        "from tkinter import *\n",
        "import tkinter as tk\n",
        "from tkinter import messagebox\n",
        "import openpyxl\n",
        "import pathlib\n",
        "from openpyxl import Workbook\n"
      ],
      "metadata": {
        "id": "91LXvIQPFLYM"
      },
      "execution_count": null,
      "outputs": []
    },
    {
      "cell_type": "code",
      "source": [
        "ctk.set_appearance_mode(\"System\")\n",
        "ctk.set_default_color_theme(\"blue\")"
      ],
      "metadata": {
        "id": "nqVS-lRUFOid"
      },
      "execution_count": null,
      "outputs": []
    },
    {
      "cell_type": "code",
      "source": [
        "class App(ctk.CTk):\n",
        "    def __init__(self):\n",
        "        super().__init__()\n",
        "        self.layout_config()\n",
        "        self.appearence()\n",
        "        self.all_system()\n",
        "\n",
        "    def layout_config(self):\n",
        "        self.title(\"Universidade Federal de Pernambuco\")\n",
        "        self.geometry(\"700x600\")\n",
        "\n",
        "    def appearence(self):\n",
        "        self.lb_apm = ctk.CTkLabel(self, text=\"Tema\", bg_color= \"transparent\", text_color=['#000', '#fff']).place(x=50, y=520)\n",
        "        self.opt_apm = ctk.CTkOptionMenu(self, values=[\"Light\", \"Dark\", \"System\"], command=self.change_apm).place(x=50, y=550)\n",
        "\n",
        "    def all_system(self):\n",
        "        frame = ctk.CTkFrame(self, width=700, height=50, corner_radius=0, bg_color=\"teal\", fg_color=\"teal\")\n",
        "        frame.place(x=0,y=9)\n",
        "        title = ctk.CTkLabel(frame, text=\"Sistema de inserção no banco de dados\", font=(\"Century Gothic bold\", 24), text_color=\"#fff\").place(x= 150, y=20)\n",
        "\n",
        "        span = ctk.CTkLabel(self, text=\"Insira os metadados corretamente\", font=(\"Century Gothic bold\", 20), text_color=[\"#000\", \"#fff\"]).place(x=50,y=70)"
      ],
      "metadata": {
        "id": "7yb7DZpjFQI-"
      },
      "execution_count": null,
      "outputs": []
    },
    {
      "cell_type": "code",
      "source": [
        "ficheiro = pathlib.Path(\"AulaPratica\")\n",
        "        if ficheiro.exists():\n",
        "                pass\n",
        "        else:\n",
        "                ficheiro = Workbook()\n",
        "                folha=ficheiro.active\n",
        "                folha['A1'] = \"Tipo\"\n",
        "                folha['B1'] = \"Estado\"\n",
        "                folha['C1'] = \"Capacidade\"\n",
        "                folha['D1'] = \"Tema\"\n",
        "                folha['E1'] = \"Data\"\n",
        "                folha['F1'] = \"Duracao\"\n",
        "                folha['G1'] = \"Obs\"\n",
        "\n",
        "                ficheiro.save(\"AulaPratica.xlsx\")\n",
        "\n",
        "\n",
        "        def submit():\n",
        "\n",
        "        #Dados dos entry\n",
        "            tipo = tipo_value.get()\n",
        "            estado = estado_value.get()\n",
        "            capacidade = capacidade_value.get()\n",
        "            tema =  tema_value.get()\n",
        "            data = data_value.get()\n",
        "            duracao = duracao_value.get()\n",
        "            obs = obs_entry.get(0.0, END)\n",
        "            custom = custom_combobox.get()\n",
        "\n",
        "            if (tipo==\"\" or estado==\"\" or capacidade==\"\" or tema==\"\" or data==\"\" or duracao==\"\" or obs==\"\"):\n",
        "                 messagebox.showerror(\"Sistema\", \"ERRO!\\nPor favor, preencha todos os campos!\")\n",
        "            else:\n",
        "                #Ligação com o excel\n",
        "                ficheiro = openpyxl.load_workbook('AulaPratica.xlsx')\n",
        "                folha = ficheiro.active\n",
        "                folha.cell(column=1, row=folha.max_row+1, value=tipo)\n",
        "                folha.cell(column=2, row=folha.max_row, value=estado)\n",
        "                folha.cell(column=3, row=folha.max_row, value=capacidade)\n",
        "                folha.cell(column=4, row=folha.max_row, value=tema)\n",
        "                folha.cell(column=5, row=folha.max_row, value=data)\n",
        "                folha.cell(column=6, row=folha.max_row, value=duracao)\n",
        "                folha.cell(column=7, row=folha.max_row, value=obs)\n",
        "\n",
        "                ficheiro.save(r\"AulaPratica.xlsx\")\n",
        "                messagebox.showinfo(\"Sistema\", \"Dados salvos com sucesso\")\n",
        "\n",
        "        def clear():\n",
        "            tipo_value.set(\"\")\n",
        "            estado_value.set(\"\")\n",
        "            capacidade_value.set(\"\")\n",
        "            tema_value.set(\"\")\n",
        "            data_value.set(\"\")\n",
        "            duracao_value.set(\"\")\n",
        "            obs_entry.delete(0.0, END)\n",
        "\n",
        "\n",
        "        #Criação de Values para cada uma das entrys\n",
        "        tipo_value= StringVar()\n",
        "        estado_value= StringVar()\n",
        "        capacidade_value= StringVar()\n",
        "        tema_value= StringVar()\n",
        "        data_value= StringVar()\n",
        "        duracao_value= StringVar()\n",
        "        obs_value= StringVar()"
      ],
      "metadata": {
        "id": "xcjeM4CaFW4h"
      },
      "execution_count": null,
      "outputs": []
    },
    {
      "cell_type": "code",
      "source": [
        "tipo_entry = ctk.CTkEntry (self, width=200,textvariable=tipo_value, font=(\"Century Gothic bold\", 16), fg_color=\"transparent\")\n",
        "        estado_entry = ctk.CTkEntry (self, width=200,textvariable=estado_value, font=(\"Century Gothic bold\", 16), fg_color=\"transparent\")\n",
        "        capacidade_entry = ctk.CTkEntry (self, width=200,textvariable=capacidade_value, font=(\"Century Gothic bold\", 16), fg_color=\"transparent\")\n",
        "        tema_entry = ctk.CTkEntry (self, width=200,textvariable=tema_value, font=(\"Century Gothic bold\", 16), fg_color=\"transparent\")\n",
        "        data_entry = ctk.CTkEntry (self, width=200,textvariable=data_value, font=(\"Century Gothic bold\", 16), fg_color=\"transparent\")\n",
        "        duracao_entry = ctk.CTkEntry (self, width=200,textvariable=duracao_value,font=(\"Century Gothic bold\", 16), fg_color=\"transparent\")\n",
        "        obs_entry = ctk.CTkTextbox(self, width=450,height=100, font=(\"arial\", 14), border_color=\"#aaa\",border_width=2, fg_color=\"transparent\")\n",
        "\n",
        "    #Combobox\n",
        "        custom_combobox = ctk.CTkComboBox(self, values=[\"Professor\", \"Aluno\", \"Monitor\"], font=(\"Century Gothic bold\", 14))\n",
        "        custom_combobox.set(\"Professor\")\n",
        "\n",
        "\n",
        "    #Labels\n",
        "\n",
        "        lb_tipo = ctk.CTkLabel(self, text=\"CD/DVD\", font=(\"Century Gothic bold\", 12), text_color=[\"#000\", \"#fff\"])\n",
        "        lb_estado = ctk.CTkLabel(self, text=\"Estado condicional\", font=(\"Century Gothic bold\", 12), text_color=[\"#000\", \"#fff\"])\n",
        "        lb_capacidade = ctk.CTkLabel(self, text=\"Capacidade (GB)\", font=(\"Century Gothic bold\", 12), text_color=[\"#000\", \"#fff\"])\n",
        "        lb_tema = ctk.CTkLabel(self, text=\"Tema do arquivo\", font=(\"Century Gothic bold\", 12), text_color=[\"#000\", \"#fff\"])\n",
        "        lb_data = ctk.CTkLabel(self, text=\"Data dd/mm/aaaa\", font=(\"Century Gothic bold\", 12), text_color=[\"#000\", \"#fff\"])\n",
        "        lb_duracao = ctk.CTkLabel(self, text=\"Duração\", font=(\"Century Gothic bold\", 12), text_color=[\"#000\", \"#fff\"])\n",
        "        lb_custom = ctk.CTkEntry (self, width=150, font=(\"Century Gothic bold\", 16), text_color=[\"#000\", \"#fff\"])\n",
        "        lb_obs = ctk.CTkLabel(self, text=\"Observação\", font=(\"Century Gothic bold\", 12), text_color=[\"#000\", \"#fff\"])\n",
        "\n",
        "\n",
        "    #Botões\n",
        "        btn_submit = ctk.CTkButton(self, text=\"Salvar dados\".upper(), command=submit, fg_color=\"#151\", hover_color=\"#131\").place(x=370, y=550)\n",
        "        btn_submit = ctk.CTkButton(self, text=\"Limpar dados\".upper(), command=clear, fg_color=\"#555\", hover_color=\"#333\").place(x=530, y=550)\n",
        "\n",
        "    #Posicionar elementos com as Labels e seus Entrys\n",
        "        lb_capacidade.place(x=50,y=120)\n",
        "        capacidade_entry.place(x=50, y=150)\n",
        "\n",
        "        lb_tipo.place(x=50, y=200)\n",
        "        tipo_entry.place(x=50, y=230)\n",
        "\n",
        "        lb_estado.place(x=50, y=300)\n",
        "        estado_entry.place(x=50, y=330)\n",
        "\n",
        "        lb_tema.place(x=400, y= 120)\n",
        "        tema_entry.place(x=400, y=150)\n",
        "\n",
        "        lb_data.place(x=400, y=200)\n",
        "        data_entry.place(x=400, y=230)\n",
        "\n",
        "        lb_duracao.place(x=400, y=300)\n",
        "        duracao_entry.place(x=400, y=330)\n",
        "\n",
        "        #lb_custom.place(x= , y= ) se necessário chamar esse método\n",
        "        #custom_combobox.place(x=430, y=550)\n",
        "\n",
        "        lb_obs.place(x=100, y=370)\n",
        "        obs_entry.place(x=100, y=400)\n",
        "\n",
        "    def change_apm(self, new_appaerence_mode):\n",
        "        ctk.set_appearance_mode(new_appaerence_mode)\n",
        "\n",
        "#Rodar a aplicação\n",
        "if __name__==\"__main__\":\n",
        "    app = App()\n",
        "    app.mainloop()"
      ],
      "metadata": {
        "id": "JWF0-V9AFck1"
      },
      "execution_count": null,
      "outputs": []
    }
  ],
  "metadata": {
    "colab": {
      "name": "Olá, este é o Colaboratory",
      "toc_visible": true,
      "provenance": [],
      "include_colab_link": true
    },
    "kernelspec": {
      "display_name": "Python 3",
      "name": "python3"
    }
  },
  "nbformat": 4,
  "nbformat_minor": 0
}